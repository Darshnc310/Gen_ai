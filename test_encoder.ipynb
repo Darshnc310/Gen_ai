{
 "cells": [
  {
   "cell_type": "code",
   "execution_count": null,
   "id": "1dac9d6b-7b6d-45d2-b019-e2a3e42c043f",
   "metadata": {},
   "outputs": [
    {
     "data": {
      "application/vnd.jupyter.widget-view+json": {
       "model_id": "e14f587bdf0341bab0462db8ff146c09",
       "version_major": 2,
       "version_minor": 0
      },
      "text/plain": [
       "tokenizer_config.json:   0%|          | 0.00/48.0 [00:00<?, ?B/s]"
      ]
     },
     "metadata": {},
     "output_type": "display_data"
    },
    {
     "data": {
      "application/vnd.jupyter.widget-view+json": {
       "model_id": "65298b81ae0c464d86b44ba5a2584189",
       "version_major": 2,
       "version_minor": 0
      },
      "text/plain": [
       "config.json:   0%|          | 0.00/570 [00:00<?, ?B/s]"
      ]
     },
     "metadata": {},
     "output_type": "display_data"
    },
    {
     "data": {
      "application/vnd.jupyter.widget-view+json": {
       "model_id": "f24c430181924fa1b9197963da8e49c2",
       "version_major": 2,
       "version_minor": 0
      },
      "text/plain": [
       "vocab.txt:   0%|          | 0.00/232k [00:00<?, ?B/s]"
      ]
     },
     "metadata": {},
     "output_type": "display_data"
    },
    {
     "data": {
      "application/vnd.jupyter.widget-view+json": {
       "model_id": "844dc3c34e364f628dee375d30a09c20",
       "version_major": 2,
       "version_minor": 0
      },
      "text/plain": [
       "tokenizer.json:   0%|          | 0.00/466k [00:00<?, ?B/s]"
      ]
     },
     "metadata": {},
     "output_type": "display_data"
    }
   ],
   "source": [
    "# First, you need to install the libraries:\n",
    "# pip install transformers torch\n",
    "\n",
    "from transformers import AutoTokenizer, AutoModelForMaskedLM\n",
    "import torch\n",
    "\n",
    "# 1. Load a pre-trained ENCODER-ONLY model (BERT) and its tokenizer\n",
    "# \"bert-base-uncased\" is the standard BERT model.\n",
    "model_name = \"bert-base-uncased\"\n",
    "tokenizer = AutoTokenizer.from_pretrained(model_name)\n",
    "model = AutoModelForMaskedLM.from_pretrained(model_name)\n",
    "\n",
    "# 2. Define our input text with a \"mask\"\n",
    "# The [MASK] token is what BERT was trained to predict.\n",
    "text = \"The capital of France is [MASK].\"\n",
    "\n",
    "# 3. Tokenize the input\n",
    "# This converts our text into numbers (tokens)\n",
    "inputs = tokenizer(text, return_tensors=\"pt\")\n",
    "\n",
    "# 4. Get the model's predictions\n",
    "# We pass the tokens through the BERT model\n",
    "with torch.no_grad():\n",
    "    outputs = model(**inputs)\n",
    "    predictions = outputs.logits\n",
    "\n",
    "# 5. Find the token ID of the masked word\n",
    "mask_token_index = torch.where(inputs[\"input_ids\"] == tokenizer.mask_token_id)[1]\n",
    "\n",
    "# 6. Get the top 5 predicted token IDs for that position\n",
    "predicted_token_ids = torch.topk(predictions[0, mask_token_index[0]], 5).indices\n",
    "\n",
    "# 7. Decode the token IDs back into readable words\n",
    "predicted_tokens = tokenizer.convert_ids_to_tokens(predicted_token_ids)\n",
    "\n",
    "# 8. Print the results\n",
    "print(f\"Original Text: {text}\")\n",
    "print(f\"Top 5 Predictions for [MASK]: {predicted_tokens}\")\n",
    "\n",
    "# --- Example Output ---\n",
    "# Original Text: The capital of France is [MASK].\n",
    "# Top 5 Predictions for [MASK]: ['paris', 'berlin', 'london', 'brussels', 'madrid']"
   ]
  },
  {
   "cell_type": "code",
   "execution_count": null,
   "id": "f87ae342-157a-4533-b28a-14a295a777b1",
   "metadata": {},
   "outputs": [],
   "source": []
  }
 ],
 "metadata": {
  "kernelspec": {
   "display_name": "tallyai",
   "language": "python",
   "name": "tallyai"
  },
  "language_info": {
   "codemirror_mode": {
    "name": "ipython",
    "version": 3
   },
   "file_extension": ".py",
   "mimetype": "text/x-python",
   "name": "python",
   "nbconvert_exporter": "python",
   "pygments_lexer": "ipython3",
   "version": "3.12.8"
  }
 },
 "nbformat": 4,
 "nbformat_minor": 5
}
